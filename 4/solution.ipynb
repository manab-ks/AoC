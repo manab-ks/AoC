{
 "cells": [
  {
   "cell_type": "code",
   "execution_count": 148,
   "metadata": {},
   "outputs": [],
   "source": [
    "import re"
   ]
  },
  {
   "cell_type": "code",
   "execution_count": 149,
   "metadata": {},
   "outputs": [],
   "source": [
    "input = []\n",
    "with open('input.txt') as f:\n",
    "    for line in f:\n",
    "        input.append(line.strip())\n"
   ]
  },
  {
   "cell_type": "code",
   "execution_count": 150,
   "metadata": {},
   "outputs": [],
   "source": [
    "vert_input = []\n",
    "for i in range(len(input[0])):\n",
    "    vert_input.append(''.join([line[i] for line in input]))"
   ]
  },
  {
   "cell_type": "code",
   "execution_count": null,
   "metadata": {},
   "outputs": [],
   "source": [
    "def diagonal(input):\n",
    "    rows = len(input)\n",
    "    cols = len(input[0])\n",
    "    diagLR = []\n",
    "\n",
    "    for col_start in range(cols):\n",
    "        diagLR = []\n",
    "        row, col = 0, col_start\n",
    "        while row < rows and col < cols:\n",
    "            diagLR.append(input[row][col])\n",
    "            row += 1\n",
    "            col += 1\n",
    "        diagLR.append(\"\".join(diagLR))\n",
    "\n",
    "    for row_start in range(1, rows):\n",
    "        diagLR = []\n",
    "        row, col = row_start, 0\n",
    "        while row < rows and col < cols:\n",
    "            diagLR.append(input[row][col])\n",
    "            row += 1\n",
    "            col += 1\n",
    "        diagLR.append(\"\".join(diagLR))\n",
    "    \n",
    "\n",
    "    diagRL = []\n",
    "\n",
    "    for col_start in range(cols):\n",
    "        diagRL = []\n",
    "        row, col = 0, col_start\n",
    "        while row < rows and col >= 0:\n",
    "            diagRL.append(input[row][col])\n",
    "            row += 1\n",
    "            col -= 1\n",
    "        diagRL.append(\"\".join(diagRL))\n",
    "\n",
    "    for row_start in range(1, rows):\n",
    "        diagRL = []\n",
    "        row, col = row_start, cols - 1\n",
    "        while row < rows and col >= 0:\n",
    "            diagRL.append(input[row][col])\n",
    "            row += 1\n",
    "            col -= 1\n",
    "        diagRL.append(\"\".join(diagRL))\n",
    "\n",
    "    return diagonals\n",
    "\n"
   ]
  },
  {
   "cell_type": "code",
   "execution_count": 152,
   "metadata": {},
   "outputs": [],
   "source": [
    "diag_input = diagonalLR(input) + diagonalRL(input)"
   ]
  },
  {
   "cell_type": "code",
   "execution_count": 153,
   "metadata": {},
   "outputs": [],
   "source": [
    "reversed_input = []\n",
    "for line in input:\n",
    "    reversed_input.append(line[::-1])\n",
    "\n",
    "reversed_vert_input = []\n",
    "for line in vert_input:\n",
    "    reversed_vert_input.append(line[::-1])\n",
    "\n",
    "reversed_diag_input = []\n",
    "for line in diag_input:\n",
    "    reversed_diag_input.append(line[::-1])"
   ]
  },
  {
   "cell_type": "code",
   "execution_count": 154,
   "metadata": {},
   "outputs": [
    {
     "name": "stdout",
     "output_type": "stream",
     "text": [
      "217\n",
      "459\n",
      "1251\n",
      "1487\n",
      "1739\n",
      "2613\n"
     ]
    }
   ],
   "source": [
    "count = 0\n",
    "for line in input:\n",
    "    x = re.findall(\"XMAS\", line)\n",
    "    count += len(x)\n",
    "print(count)\n",
    "\n",
    "for line in vert_input:\n",
    "    x = re.findall(\"XMAS\", line)\n",
    "    count += len(x)\n",
    "print(count)\n",
    "\n",
    "for line in diag_input:\n",
    "    x = re.findall(\"XMAS\", line)\n",
    "    count += len(x)\n",
    "print(count)\n",
    "\n",
    "for line in reversed_input:\n",
    "    x = re.findall(\"XMAS\", line)\n",
    "    count += len(x)\n",
    "print(count)\n",
    "\n",
    "for line in reversed_vert_input:\n",
    "    x = re.findall(\"XMAS\", line)\n",
    "    count += len(x)\n",
    "print(count)\n",
    "\n",
    "for line in reversed_diag_input:\n",
    "    x = re.findall(\"XMAS\", line)\n",
    "    count += len(x)\n",
    "print(count)"
   ]
  },
  {
   "cell_type": "code",
   "execution_count": 155,
   "metadata": {},
   "outputs": [
    {
     "name": "stdout",
     "output_type": "stream",
     "text": [
      "1905\n"
     ]
    }
   ],
   "source": [
    "count = 0\n",
    "for i in range(1, len(input) - 1):\n",
    "    for j in range(1, len(input[0]) - 1):\n",
    "        if input[i][j] == 'A':\n",
    "            if (input[i-1][j-1] == 'M' and input[i-1][j+1] == 'S' and \n",
    "                input[i+1][j-1] == 'M' and input[i+1][j+1] == 'S'):\n",
    "                count += 1\n",
    "                continue\n",
    "\n",
    "            if (input[i-1][j-1] == 'S' and input[i-1][j+1] == 'S' and \n",
    "                input[i+1][j-1] == 'M' and input[i+1][j+1] == 'M'):\n",
    "                count += 1\n",
    "                continue\n",
    "\n",
    "            if (input[i-1][j-1] == 'M' and input[i-1][j+1] == 'M' and \n",
    "                input[i+1][j-1] == 'S' and input[i+1][j+1] == 'S'):\n",
    "                count += 1\n",
    "                continue\n",
    "\n",
    "            if (input[i-1][j-1] == 'S' and input[i-1][j+1] == 'M' and \n",
    "                input[i+1][j-1] == 'S' and input[i+1][j+1] == 'M'):\n",
    "                count += 1\n",
    "                continue\n",
    "\n",
    "print(count)"
   ]
  },
  {
   "cell_type": "code",
   "execution_count": null,
   "metadata": {},
   "outputs": [],
   "source": []
  },
  {
   "cell_type": "markdown",
   "metadata": {},
   "source": []
  },
  {
   "cell_type": "code",
   "execution_count": null,
   "metadata": {},
   "outputs": [],
   "source": []
  }
 ],
 "metadata": {
  "kernelspec": {
   "display_name": "Python 3",
   "language": "python",
   "name": "python3"
  },
  "language_info": {
   "codemirror_mode": {
    "name": "ipython",
    "version": 3
   },
   "file_extension": ".py",
   "mimetype": "text/x-python",
   "name": "python",
   "nbconvert_exporter": "python",
   "pygments_lexer": "ipython3",
   "version": "3.13.0"
  }
 },
 "nbformat": 4,
 "nbformat_minor": 2
}
