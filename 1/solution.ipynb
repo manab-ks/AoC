{
 "cells": [
  {
   "cell_type": "code",
   "execution_count": 2,
   "metadata": {},
   "outputs": [
    {
     "name": "stdout",
     "output_type": "stream",
     "text": [
      "1580061\n"
     ]
    }
   ],
   "source": [
    "input = []\n",
    "with open('input.txt') as f:\n",
    "    for line in f:\n",
    "        input.append(list(map(int, line.strip().split())))\n",
    "\n",
    "left = [input[i][0] for i in range(len(input))]\n",
    "right = [input[i][1] for i in range(len(input))]\n",
    "\n",
    "left = sorted(left)\n",
    "right = sorted(right)\n",
    "\n",
    "distance = 0\n",
    "for i in range(len(input)):\n",
    "    distance += abs(left[i] - right[i])\n",
    "print(distance)"
   ]
  },
  {
   "cell_type": "code",
   "execution_count": 9,
   "metadata": {},
   "outputs": [
    {
     "name": "stdout",
     "output_type": "stream",
     "text": [
      "23046913\n"
     ]
    }
   ],
   "source": [
    "sscore = 0\n",
    "for i in range(len(input)):\n",
    "    count = 0\n",
    "    for j in range(len(input)):\n",
    "        if left[i] == right[j]:\n",
    "            count += 1\n",
    "    sscore += count*left[i]\n",
    "print(sscore)"
   ]
  }
 ],
 "metadata": {
  "kernelspec": {
   "display_name": "Python 3",
   "language": "python",
   "name": "python3"
  },
  "language_info": {
   "codemirror_mode": {
    "name": "ipython",
    "version": 3
   },
   "file_extension": ".py",
   "mimetype": "text/x-python",
   "name": "python",
   "nbconvert_exporter": "python",
   "pygments_lexer": "ipython3",
   "version": "3.13.0"
  }
 },
 "nbformat": 4,
 "nbformat_minor": 2
}
