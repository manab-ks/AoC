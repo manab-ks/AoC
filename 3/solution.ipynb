{
 "cells": [
  {
   "cell_type": "code",
   "execution_count": null,
   "metadata": {},
   "outputs": [],
   "source": [
    "\n",
    "with open('input.txt') as f:\n",
    "    input = f.read()\n",
    "\n",
    "def parse(input):\n",
    "    test = []\n",
    "    j = 4\n",
    "    for i in range(len(input)):\n",
    "            if input[i:i+3] == 'mul':\n",
    "                while input[i+j] != ')':\n",
    "                    j += 1\n",
    "                    if j>11:\n",
    "                        continue\n",
    "                test.append(input[i+4:i+j-1])\n",
    "                j = 4\n",
    "                \n",
    "    return test\n",
    "\n",
    "test = parse(input)"
   ]
  },
  {
   "cell_type": "markdown",
   "metadata": {},
   "source": []
  },
  {
   "cell_type": "markdown",
   "metadata": {},
   "source": []
  }
 ],
 "metadata": {
  "kernelspec": {
   "display_name": "Python 3",
   "language": "python",
   "name": "python3"
  },
  "language_info": {
   "codemirror_mode": {
    "name": "ipython",
    "version": 3
   },
   "file_extension": ".py",
   "mimetype": "text/x-python",
   "name": "python",
   "nbconvert_exporter": "python",
   "pygments_lexer": "ipython3",
   "version": "3.13.0"
  }
 },
 "nbformat": 4,
 "nbformat_minor": 2
}
